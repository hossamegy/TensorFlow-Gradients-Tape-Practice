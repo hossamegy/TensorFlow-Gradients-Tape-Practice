{
  "nbformat": 4,
  "nbformat_minor": 0,
  "metadata": {
    "colab": {
      "provenance": []
    },
    "kernelspec": {
      "name": "python3",
      "display_name": "Python 3"
    },
    "language_info": {
      "name": "python"
    }
  },
  "cells": [
    {
      "cell_type": "markdown",
      "source": [
        "# **Import Libraries**"
      ],
      "metadata": {
        "id": "L1nSQau5oRbT"
      }
    },
    {
      "cell_type": "code",
      "source": [
        "import tensorflow as tf\n",
        "import numpy as np"
      ],
      "metadata": {
        "id": "HbUbuAhTn5dk"
      },
      "execution_count": 1,
      "outputs": []
    },
    {
      "cell_type": "markdown",
      "source": [
        "# **Use GradientTape**"
      ],
      "metadata": {
        "id": "BweUQzDc1xsg"
      }
    },
    {
      "cell_type": "code",
      "source": [
        "x = tf.Variable([3.0], trainable=True)\n",
        "\n",
        "with tf.GradientTape() as tape:\n",
        "  y = x * x\n",
        "dy_dx = tape.gradient(y, x)\n",
        "\n",
        "del tape\n",
        "\n",
        "print(\"x =\", x.numpy())\n",
        "print(\"y =\", y.numpy())\n",
        "print(\"dy_dx =\", dy_dx.numpy())"
      ],
      "metadata": {
        "colab": {
          "base_uri": "https://localhost:8080/"
        },
        "id": "Tn9oZH_mDiMn",
        "outputId": "10cd4645-570c-407a-e7d2-1e9b48dad98c"
      },
      "execution_count": 2,
      "outputs": [
        {
          "output_type": "stream",
          "name": "stdout",
          "text": [
            "x = [3.]\n",
            "y = [9.]\n",
            "dy_dx = [6.]\n"
          ]
        }
      ]
    },
    {
      "cell_type": "code",
      "source": [
        "x = tf.Variable([3.0], trainable=True)\n",
        "\n",
        "with tf.GradientTape() as tape:\n",
        "  y = x * x\n",
        "  z = 2 * y**2\n",
        "dz_dx = tape.gradient(z, x)\n",
        "\n",
        "del tape\n",
        "\n",
        "print(\"x =\", x.numpy())\n",
        "print(\"y =\", y.numpy())\n",
        "print(\"dz_dx =\", dz_dx.numpy())"
      ],
      "metadata": {
        "colab": {
          "base_uri": "https://localhost:8080/"
        },
        "id": "jLCnPXJOD13e",
        "outputId": "14a417bf-d80c-47f0-af27-9b390887ea99"
      },
      "execution_count": 3,
      "outputs": [
        {
          "output_type": "stream",
          "name": "stdout",
          "text": [
            "x = [3.]\n",
            "y = [9.]\n",
            "dz_dx = [216.]\n"
          ]
        }
      ]
    },
    {
      "cell_type": "code",
      "source": [
        "x_data = np.random.rand(100).astype(np.float32)\n",
        "y_data = x_data * 2. + 1."
      ],
      "metadata": {
        "id": "0SjkbGhJoCA0"
      },
      "execution_count": 4,
      "outputs": []
    },
    {
      "cell_type": "code",
      "source": [
        "# Init params\n",
        "w = tf.Variable(tf.random.uniform([1]), trainable=True)\n",
        "b = tf.Variable(tf.zeros([1]), trainable=True)"
      ],
      "metadata": {
        "id": "QpqKMvuCodVD"
      },
      "execution_count": 5,
      "outputs": []
    },
    {
      "cell_type": "code",
      "source": [
        "print('Weights: ', w.numpy()[-1])\n",
        "print('Bias: ', b.numpy()[-1])"
      ],
      "metadata": {
        "colab": {
          "base_uri": "https://localhost:8080/"
        },
        "id": "b4WxoiE6odWO",
        "outputId": "6175a441-a3d4-46ea-aa07-30513ef16cd3"
      },
      "execution_count": 18,
      "outputs": [
        {
          "output_type": "stream",
          "name": "stdout",
          "text": [
            "Weights:  0.50460905\n",
            "Bias:  0.09999999\n"
          ]
        }
      ]
    },
    {
      "cell_type": "code",
      "source": [
        "# abs loss\n",
        "def simple_loss(y_true, y_pred):\n",
        "   return tf.abs(y_true - y_pred)"
      ],
      "metadata": {
        "id": "1i6yJHrnoESS"
      },
      "execution_count": 7,
      "outputs": []
    },
    {
      "cell_type": "code",
      "source": [
        "learning_rate = 0.0001\n",
        "\n",
        "# Define training model func\n",
        "def fit_model(learning_rate, x_data, y_data):\n",
        "    with tf.GradientTape(persistent=True) as tape:\n",
        "\n",
        "      # Predictions\n",
        "      y_pred = w * x_data  + b\n",
        "\n",
        "      # Calculate loss\n",
        "      loss = simple_loss(y_data, y_pred)\n",
        "\n",
        "    grad_w = tape.gradient(loss, w)\n",
        "    grad_b = tape.gradient(loss, b)\n",
        "\n",
        "    # Updata w, b\n",
        "    w.assign_sub(learning_rate * grad_w)\n",
        "    b.assign_sub(learning_rate * grad_b)\n",
        "\n",
        "    print(f\"Iteration {i}: loss = {loss.numpy()[-1]}, w = {w.numpy()}, b = {b.numpy()}\")"
      ],
      "metadata": {
        "id": "X1D-cdmsoLgi"
      },
      "execution_count": 8,
      "outputs": []
    },
    {
      "cell_type": "code",
      "source": [
        "# Training loop\n",
        "for i in range(500):\n",
        "    if i % 50 == 0:  # Print every 50 iterations\n",
        "        fit_model(learning_rate, x_data, y_data)"
      ],
      "metadata": {
        "colab": {
          "base_uri": "https://localhost:8080/"
        },
        "id": "8DEpzhABpkmc",
        "outputId": "555f7a0e-def7-4887-8596-4e63fbadadbd"
      },
      "execution_count": 9,
      "outputs": [
        {
          "output_type": "stream",
          "name": "stdout",
          "text": [
            "Iteration 0: loss = 2.024024248123169, w = [0.45680216], b = [0.01]\n",
            "Iteration 50: loss = 2.0105113983154297, w = [0.46211404], b = [0.02]\n",
            "Iteration 100: loss = 1.9969987869262695, w = [0.4674259], b = [0.03]\n",
            "Iteration 150: loss = 1.9834860563278198, w = [0.4727378], b = [0.04]\n",
            "Iteration 200: loss = 1.9699733257293701, w = [0.47804967], b = [0.05]\n",
            "Iteration 250: loss = 1.9564605951309204, w = [0.48336154], b = [0.05999999]\n",
            "Iteration 300: loss = 1.9429478645324707, w = [0.48867342], b = [0.06999999]\n",
            "Iteration 350: loss = 1.929435133934021, w = [0.4939853], b = [0.07999999]\n",
            "Iteration 400: loss = 1.9159224033355713, w = [0.49929717], b = [0.08999999]\n",
            "Iteration 450: loss = 1.9024096727371216, w = [0.50460905], b = [0.09999999]\n"
          ]
        }
      ]
    },
    {
      "cell_type": "markdown",
      "source": [
        "# **Build Linear Regression**"
      ],
      "metadata": {
        "id": "lYoMFJo81WPJ"
      }
    },
    {
      "cell_type": "code",
      "source": [
        "class LinearRegression(object):\n",
        "  def __init__(self):\n",
        "    self.w = tf.Variable(tf.random.uniform([1]), trainable=True)\n",
        "    self.b = tf.Variable(tf.zeros([1]), trainable=True)\n",
        "\n",
        "  def __call__(self, x):\n",
        "    return  self.w * x +  self.b\n",
        "\n",
        "  def loss(self, y_true, y_pred):\n",
        "    return tf.reduce_mean(tf.square(y_true - y_pred))\n",
        "\n",
        "  def fit(self, itr, x_data, y_data, learning_rate=0.0001):\n",
        "    for i in range(itr):\n",
        "      with tf.GradientTape(persistent=True) as tape:\n",
        "        y_pred = self(x_data)\n",
        "        loss = self.loss(y_data, y_pred)\n",
        "\n",
        "      grad_w, grad_b = tape.gradient(loss, [self.w, self.b])\n",
        "\n",
        "      self.w.assign_sub(learning_rate * grad_w)\n",
        "      self.b.assign_sub(learning_rate * grad_b)\n",
        "\n",
        "      if i % 50 == 0:\n",
        "        print(f\"Iteration {i}: loss = {loss.numpy()}, w = {self.w.numpy()}, b = {self.b.numpy()}\")\n",
        "\n",
        "  def predict(self, x):\n",
        "    return self.w * x + self.b"
      ],
      "metadata": {
        "id": "NzCekeSlxwgN"
      },
      "execution_count": 13,
      "outputs": []
    },
    {
      "cell_type": "code",
      "source": [
        "liner_regression = LinearRegression()"
      ],
      "metadata": {
        "id": "MZeWb--jHJfg"
      },
      "execution_count": 14,
      "outputs": []
    },
    {
      "cell_type": "code",
      "source": [
        "liner_regression.fit(500, x_data, y_data, 0.1)"
      ],
      "metadata": {
        "colab": {
          "base_uri": "https://localhost:8080/"
        },
        "id": "0MRM94wQHM4E",
        "outputId": "8143c67c-cbf3-4925-ee91-8e626a86dbb6"
      },
      "execution_count": 15,
      "outputs": [
        {
          "output_type": "stream",
          "name": "stdout",
          "text": [
            "Iteration 0: loss = 3.070735454559326, w = [0.8628702], b = [0.3423548]\n",
            "Iteration 50: loss = 0.008155177347362041, w = [1.6834651], b = [1.1789117]\n",
            "Iteration 100: loss = 0.002428197069093585, w = [1.8272784], b = [1.0976257]\n",
            "Iteration 150: loss = 0.0007229968905448914, w = [1.9057518], b = [1.053271]\n",
            "Iteration 200: loss = 0.0002152730739908293, w = [1.9485719], b = [1.0290681]\n",
            "Iteration 250: loss = 6.409738853108138e-05, w = [1.9719375], b = [1.0158614]\n",
            "Iteration 300: loss = 1.908484409796074e-05, w = [1.9846874], b = [1.008655]\n",
            "Iteration 350: loss = 5.682014034391614e-06, w = [1.9916447], b = [1.0047225]\n",
            "Iteration 400: loss = 1.691889451649331e-06, w = [1.9954407], b = [1.002577]\n",
            "Iteration 450: loss = 5.038360200160241e-07, w = [1.997512], b = [1.0014062]\n"
          ]
        }
      ]
    },
    {
      "cell_type": "code",
      "source": [
        "liner_regression.predict(5)"
      ],
      "metadata": {
        "colab": {
          "base_uri": "https://localhost:8080/"
        },
        "id": "gGq7DszQHW8G",
        "outputId": "bf34ca2a-a9b5-43fd-8741-7fcb67ecb99a"
      },
      "execution_count": 16,
      "outputs": [
        {
          "output_type": "execute_result",
          "data": {
            "text/plain": [
              "<tf.Tensor: shape=(1,), dtype=float32, numpy=array([10.993906], dtype=float32)>"
            ]
          },
          "metadata": {},
          "execution_count": 16
        }
      ]
    }
  ]
}